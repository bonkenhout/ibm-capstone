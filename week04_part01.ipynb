{
    "nbformat_minor": 1, 
    "cells": [
        {
            "source": "# IBM Applied Data Science Capstone", 
            "cell_type": "markdown", 
            "metadata": {
                "collapsed": true
            }
        }, 
        {
            "source": "## WEEK 4: PEER-GRADED ASSIGNMENT", 
            "cell_type": "markdown", 
            "metadata": {}
        }, 
        {
            "source": "__Author:__ Bart Onkenhout  \n__Created:__ 2019-04-02  \n__Modified:__ 2019-04-02  ", 
            "cell_type": "markdown", 
            "metadata": {}
        }, 
        {
            "source": "### Purpose\nThis Python notebook will primarily be used for the capstone project in Weeks 1 through 5 of the IBM Applied Data Science Capstone, which counts towards the IBM Data Science Professional Certificate.", 
            "cell_type": "markdown", 
            "metadata": {}
        }, 
        {
            "source": "### Assignment\nThis week's assignment is to create a notebook in which we:  \n1) clearly define a problem or idea of our choice that would require leveraging the Foursquare location API to solve or execute;  \n2) describe our target audience and why they would care about our problem;  \n3) summarize this in an Introduction/Business Problem section as __Part I__ of a final report;  \n4) push the resulting notebook to GitHub.", 
            "cell_type": "markdown", 
            "metadata": {}
        }, 
        {
            "source": "---\n# SECTION I: INTRODUCTION", 
            "cell_type": "markdown", 
            "metadata": {}
        }, 
        {
            "source": "### Background\nIn the previous capstone assignment in Week 3, I spent a signinificant amount of time exploring the city of __Toronto__, enriching the neighborhoods with venue data from the <a href='http://developer.foursquare.com/'>Foursquare API</a>. A nice isolated exercise to flex some of the Python muscles that have lain long-dormant. However, Toronto is really more of a proof-of-concept -- barring some out-of-the-blue job offer in Canada I don't think I'll be moving up to the Great White North. Firstly, I'm not really a cold-weather person; and secondly, I'm not sure I have enough points to qualify for an <a href='https://www.canada.ca/en/immigration-refugees-citizenship/services/immigrate-canada/express-entry.html'>ExpressEntry visa</a> ;). Canada -- you're lovely, but you're also buried in snow 80% of the time, so no thanks!\n\n<img src='https://upload.wikimedia.org/wikipedia/commons/d/d9/Flag_of_Canada_%28Pantone%29.svg' height='192' width='96' />\n\n\n\nSo perhaps it's time to kick our analysis up another notch. In the near future, I plan to move to Europe for a work assignment. However, my employer has headquarters in several European cities. So which work assignment should I apply for? The one in <a href='https://en.wikipedia.org/wiki/Frankfurt'>Frankfurt</a>? <a href='https://en.wikipedia.org/wiki/Barcelona'>Barcelona</a>? Perhaps one in <a href='https://en.wikipedia.org/wiki/Amsterdam'>Amsterdam</a>? I'd like to find the most similar cities in Europe and do the following:  \n\n1) find the cities in which my employer has headquarters,  \n2) enrich this set of cities with data from the Foursquare API,  \n3) see how this compares with my current home city of Chicago in terms of venue diversity,  \n4) make a decision based on this data, and  \n5) show _you_, my lovely audience (and classmates) my reasoning!  \n\n### Why is this important?\nSo who really cares? Well, there's a couple of reasons why this is important.\n\nFirst, it's always good to make __evidence-driven decisions__. With increasing globalization, it's important to spend one's time wisely and get the most out of every place we travel to. However, there's an increasing problem of __information overload__ -- known in psychology as the <a href='https://en.wikipedia.org/wiki/The_Paradox_of_Choice'>Paradox of Choice</a>. I'm a bit on the older side and no longer have the luxury of 'finding myself' while backpacking for months through the Continent by rail like a <a href='https://en.wikipedia.org/wiki/Bohemianism'>bohemian</a>. No--I've got _bills!_ _Student loans!_ A bedtime of _9:30 PM!_ This means I'm looking for maximum payoff with my time. And third, I __really, really__ like food, so I want to find a place that's like Chicago in its diversity of cuisine offerings. (For my fellow students who are not familiar with the US, Chicago has a reputation as a mecca for food!)\n\nSo, because I definitely can't _eat_ my way through Europe I'll need to be able to filter out some of the places I definitely _don't_ want to go. This will help me to continuously refine my selection until I have a shortlist of, say, three cities that I can choose to focus on before settling on a final decision. And data science will help me to arrive at this shortlist in a systematic, reproducible way -- unlocking the secrets of the Foursquare API in a way that we never could with Excel!.\n\n### Problem statement\nWhich city/cities in Europe should I pick for my next work rotation so that I still have similar food options to Chicago?\n\n### Stakeholder(s)\nMe! (And my stomach.)\n\n__So let's get to it!__", 
            "cell_type": "markdown", 
            "metadata": {}
        }, 
        {
            "source": "", 
            "cell_type": "code", 
            "metadata": {}, 
            "outputs": [], 
            "execution_count": null
        }
    ], 
    "metadata": {
        "kernelspec": {
            "display_name": "Python 3.5", 
            "name": "python3", 
            "language": "python"
        }, 
        "language_info": {
            "mimetype": "text/x-python", 
            "nbconvert_exporter": "python", 
            "version": "3.5.5", 
            "name": "python", 
            "file_extension": ".py", 
            "pygments_lexer": "ipython3", 
            "codemirror_mode": {
                "version": 3, 
                "name": "ipython"
            }
        }
    }, 
    "nbformat": 4
}