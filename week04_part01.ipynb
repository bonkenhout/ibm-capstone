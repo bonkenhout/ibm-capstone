{
    "nbformat_minor": 1, 
    "cells": [
        {
            "source": "# IBM Applied Data Science Capstone", 
            "cell_type": "markdown", 
            "metadata": {
                "collapsed": true
            }
        }, 
        {
            "source": "## WEEK 4: PEER-GRADED ASSIGNMENT", 
            "cell_type": "markdown", 
            "metadata": {}
        }, 
        {
            "source": "__Author:__ Bart Onkenhout  \n__Created:__ 2019-04-02  \n__Modified:__ 2019-04-02  ", 
            "cell_type": "markdown", 
            "metadata": {}
        }, 
        {
            "source": "### Purpose\nThis Python notebook will primarily be used for the capstone project in Weeks 1 through 5 of the IBM Applied Data Science Capstone, which counts towards the IBM Data Science Professional Certificate.", 
            "cell_type": "markdown", 
            "metadata": {}
        }, 
        {
            "source": "### Assignment\nThis week's assignment is to create a notebook in which we:  \n1) clearly define a problem or idea of our choice that would require leveraging the Foursquare location API to solve or execute;  \n2) describe our target audience and why they would care about our problem;  \n3) summarize this in an Introduction/Business Problem section as __Part I__ of a final report;  \n4) push the resulting notebook to GitHub.", 
            "cell_type": "markdown", 
            "metadata": {}
        }, 
        {
            "execution_count": null, 
            "cell_type": "code", 
            "metadata": {}, 
            "outputs": [], 
            "source": ""
        }
    ], 
    "metadata": {
        "kernelspec": {
            "display_name": "Python 3.5", 
            "name": "python3", 
            "language": "python"
        }, 
        "language_info": {
            "mimetype": "text/x-python", 
            "nbconvert_exporter": "python", 
            "version": "3.5.5", 
            "name": "python", 
            "file_extension": ".py", 
            "pygments_lexer": "ipython3", 
            "codemirror_mode": {
                "version": 3, 
                "name": "ipython"
            }
        }
    }, 
    "nbformat": 4
}