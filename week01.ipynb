{
    "nbformat_minor": 1, 
    "cells": [
        {
            "source": "# Applied Data Science Capstone\n## WEEK 1 - PEER-GRADED ASSIGNMENT \n\n__Author__: Bart Onkenhout  \n__Created__: 2019-03-25  \n__Modified__: 2019-03-25\n\n### Introduction\nThis Python notebook will primarily be used for the capstone project in Weeks 1 through 5 of the IBM Applied Data Science Capstone, which counts towards the IBM Data Science Professional Certificate.\n\n### Assignment\nThis week's assignment is to create a capstone notebook in which we:\n1. import the _pandas_ library as pd,\n2. import the Numpy library as np,\n3. print the statement 'Hello Capstone Project Course!', and\n4. push the notebook to GitHub.", 
            "cell_type": "markdown", 
            "metadata": {
                "collapsed": true
            }
        }, 
        {
            "source": "### Let's get to it!", 
            "cell_type": "markdown", 
            "metadata": {}
        }, 
        {
            "source": "import pandas as pd\nimport numpy as np", 
            "cell_type": "code", 
            "metadata": {}, 
            "outputs": [], 
            "execution_count": 1
        }, 
        {
            "source": "print('Hello Capstone Project Course!')", 
            "cell_type": "code", 
            "metadata": {}, 
            "outputs": [
                {
                    "output_type": "stream", 
                    "name": "stdout", 
                    "text": "Hello Capstone Project Course!\n"
                }
            ], 
            "execution_count": 2
        }, 
        {
            "source": "Let's also check the version of _pandas_ and Numpy to check if everything is installed correctly. (It would be odd if it wasn't, but I like going the extra mile. :)", 
            "cell_type": "markdown", 
            "metadata": {}
        }, 
        {
            "source": "print('Pandas:', pd.__version__, '\\nNumpy :', np.__version__)", 
            "cell_type": "code", 
            "metadata": {}, 
            "outputs": [
                {
                    "output_type": "stream", 
                    "name": "stdout", 
                    "text": "Pandas: 0.21.0 \nNumpy : 1.13.3\n"
                }
            ], 
            "execution_count": 3
        }, 
        {
            "source": "Looks like everything works! Let's go ahead and push to GitHub. See you all in the next week!", 
            "cell_type": "markdown", 
            "metadata": {}
        }, 
        {
            "source": "", 
            "cell_type": "code", 
            "metadata": {}, 
            "outputs": [], 
            "execution_count": null
        }
    ], 
    "metadata": {
        "kernelspec": {
            "display_name": "Python 3.5", 
            "name": "python3", 
            "language": "python"
        }, 
        "language_info": {
            "mimetype": "text/x-python", 
            "nbconvert_exporter": "python", 
            "version": "3.5.5", 
            "name": "python", 
            "pygments_lexer": "ipython3", 
            "file_extension": ".py", 
            "codemirror_mode": {
                "version": 3, 
                "name": "ipython"
            }
        }
    }, 
    "nbformat": 4
}