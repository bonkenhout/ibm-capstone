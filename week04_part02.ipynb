{
    "nbformat_minor": 1, 
    "cells": [
        {
            "source": "# IBM Applied Data Science Capstone", 
            "cell_type": "markdown", 
            "metadata": {
                "collapsed": true
            }
        }, 
        {
            "source": "## WEEK 4: PEER-GRADED ASSIGNMENT", 
            "cell_type": "markdown", 
            "metadata": {}
        }, 
        {
            "source": "__Author:__ Bart Onkenhout  \n__Created:__ 2019-04-02  \n__Modified:__ 2019-04-02  ", 
            "cell_type": "markdown", 
            "metadata": {}
        }, 
        {
            "source": "### Purpose\nThis Python notebook will primarily be used for the capstone project in Weeks 1 through 5 of the IBM Applied Data Science Capstone, which counts towards the IBM Data Science Professional Certificate.", 
            "cell_type": "markdown", 
            "metadata": {}
        }, 
        {
            "source": "### Assignment\nThis week's assignment is to create a notebook in which we:  \n1) clearly define a problem or idea of our choice that would require leveraging the Foursquare location API to solve or execute;  \n2) describe our target audience and why they would care about our problem;  \n3) summarize this in an Introduction/Business Problem section as __Part I__ of a final report;  \n4) push the resulting notebook to GitHub.", 
            "cell_type": "markdown", 
            "metadata": {}
        }, 
        {
            "source": "---\n# SECTION I: INTRODUCTION", 
            "cell_type": "markdown", 
            "metadata": {}
        }, 
        {
            "source": "### Abstract\nIn the previous capstone assignment in Week 3, I spent a signinificant amount of time exploring the city of __Toronto__, enriching the neighborhoods with venue data from the <a href='http://developer.foursquare.com/'>Foursquare API</a>. A nice isolated exercise to flex some of the Python muscles that have lain long-dormant. However, Toronto is really more of a proof-of-concept -- barring some out-of-the-blue job offer in Canada I don't think I'll be moving up to the Great White North. Firstly, I'm not really a cold-weather person; and secondly, I'm not sure I have enough points to qualify for an <a href='https://www.canada.ca/en/immigration-refugees-citizenship/services/immigrate-canada/express-entry.html'>ExpressEntry visa</a> ;). Canada -- you're lovely, but you're also buried in snow 80% of the time, so no thanks!\n\n<img src='https://upload.wikimedia.org/wikipedia/commons/d/d9/Flag_of_Canada_%28Pantone%29.svg' height='192' width='96' />\n\n\n\nSo perhaps it's time to kick our analysis up another notch. In the near future, I plan to move to Europe for a work assignment. However, my employer has headquarters in several European cities. So which work assignment should I apply for? The one in <a href='https://en.wikipedia.org/wiki/Frankfurt'>Frankfurt</a>? <a href='https://en.wikipedia.org/wiki/Barcelona'>Barcelona</a>? Perhaps one in <a href='https://en.wikipedia.org/wiki/Amsterdam'>Amsterdam</a>? I'd like to find the most similar cities in Europe and do the following:  \n\n1) find the cities in which my employer has headquarters,  \n2) enrich this set of cities with data from the Foursquare API,  \n3) see how this compares with my current home city of Chicago in terms of venue diversity,  \n4) make a decision based on this data, and  \n5) show _you_, my lovely audience (and classmates) my reasoning!  \n\n### Why is this important?\nSo who really cares? Well, there's a couple of reasons why this is important.\n\nFirst, it's always good to make __evidence-driven decisions__. With increasing globalization, it's important to spend one's time wisely and get the most out of every place we travel to. However, there's an increasing problem of __information overload__ -- known in psychology as the <a href='https://en.wikipedia.org/wiki/The_Paradox_of_Choice'>Paradox of Choice</a>. I'm a bit on the older side and no longer have the luxury of 'finding myself' while backpacking for months through the Continent by rail like a <a href='https://en.wikipedia.org/wiki/Bohemianism'>bohemian</a>. No--I've got _bills!_ _Student loans!_ A bedtime of _9:30 PM!_ This means I'm looking for maximum payoff with my time. And third, I __really, really__ like food, so I want to find a place that's like Chicago in its diversity of cuisine offerings. (For my fellow students who are not familiar with the US, Chicago has a reputation as a mecca for food!)\n\nSo, because I definitely can't _eat_ my way through Europe I'll need to be able to filter out some of the places I definitely _don't_ want to go. This will help me to continuously refine my selection until I have a shortlist of, say, three cities that I can choose to focus on before settling on a final decision. And data science will help me to arrive at this shortlist in a systematic, reproducible way -- unlocking the secrets of the Foursquare API in a way that we never could with Excel!.\n\n__So let's get to it!__", 
            "cell_type": "markdown", 
            "metadata": {}
        }, 
        {
            "source": "---\n# SECTION II: DATA", 
            "cell_type": "markdown", 
            "metadata": {}
        }, 
        {
            "source": "### In a nutshell\nIn a nutshell, the data I'll need is fairly straightforward in concept. We want:\n\n- __Foursquare API data__ for looking up venues in each city  \n- a __list of European cities__ in which my employer has offices as a base comparison set\n- __geolocation data__ of each city so we can plot everything on a map\n- __GeoJSON shapes__ of each city so we can use a GeoJson layer to outline each city on the map\n\n\n### 1. Foursquare API data\nThis one is fairly straightforward. I've already signed up for an API key at <a href='http://developer.foursquare.com'>http://developer.foursquare.com</a>, which will allow me to make a number of calls (at no charge) to get the information I need from the various <a href='https://developer.foursquare.com/docs/api/endpoints'>endpoints</a> that are exposed by the API. The most interesting information I'll want is the __venue data__ in a certain radius around each city.\n\nWe will use the `explore` endpoint to get venue recommendations based on a latitude and longitude passed in the `ll` parameter. However, according to the documentation, the non-premium API only returns __50 venues__ at a time. I'll have to use the `offset` parameter to page through the different results.\n\nAs an example, here is a list of 10 venues returned near the Willis Tower (formerly Sears Tower) in Chicago, IL (41.8789\u00b0 N, 87.6359\u00b0 W):\n\n`https://api.foursquare.com/v2/venues/explore?&client_id={CLIENT_ID}&client_secret={CLIENT_SECRET}&v={API_VERSION}&ll=41.8789,-87.6359&radius={radius}`\n\nWhere `CLIENT_ID` and `CLIENT_SECRET` are the API ID and API key, `API_VERSION` is the version date of the API, `ll` is the latitude and longitude of the location I want to search around in a radius of `radius` meters.\n\n\n### 2. List of European cities\nThis list is obviously only available to employees of my company. Luckily, we have a central company directory that has the following data for each office:\n\n- `LOCATION`: Office's official location name in our directory\n- `CITY`    : City of the office\n- `COUNTRY` : Country of the office\n\nFairly straightforward. I'll be loading each of these as a CSV file into a dict keyed on `LOCATION`, with fields like in the following example:\n\n`offices['location']: {'city':'Frankfurt', 'country':'Germany'}`\n\n### 3. Geolocation data\nThis one is a bit tougher, since Google made their Google Maps API a <a href='https://developers.google.com/maps/documentation/geocoding/usage-and-billing'>premium product</a>. However, according to Google there are USD 200 in free credits allowed every month, and the prices start at only USD 5 per 1000 requests. So if I sign up for a free account, I can make up to 40,000 requests before I need to start paying. This is one possible route.\n\nAnother possible route would be to use the OpenStreetMaps alternative API, <a href='https://wiki.openstreetmap.org/wiki/Nominatim'>Nominatim</a>. I do recall from previous usage that OSM can be finicky in which inputs it does and does not accept, so geocoding our European cities may prove difficult. Depending on the number of cities available, I may want to do this offline in Excel by hand-querying the Google Maps website, rather than using the API.\n\nIn any case, the Nominatim API can be queried using the following syntax:\n\n`https://nominatim.openstreetmap.org/reverse?format=jsonv2&lat=-34.4391708&lon=-58.7064573`\n\nThis will return a JSON object containing geographic information on the location(s) at the specified latitude and longitude (in this example, the Aramburu highway in Argentina). The JSON object looks like this:\n\n```\n{\n  \"place_id\":\"134140761\",\n  \"licence\":\"Data \u00a9 OpenStreetMap contributors, ODbL 1.0. http:\\/\\/www.openstreetmap.org\\/copyright\",\n  \"osm_type\":\"way\",\n  \"osm_id\":\"280940520\",\n\"lat\":\"-34.4391708\",\n  \"lon\":\"-58.7064573\",\n  \"place_rank\":\"26\",\n  \"category\":\"highway\",\n  \"type\":\"motorway\",\n  \"importance\":\"0.1\",\n  \"addresstype\":\"road\",\n  \"display_name\":\"Autopista Pedro Eugenio Aramburu, El Tri\u00e1ngulo, Partido de Malvinas Argentinas, Buenos Aires, 1.619, Argentina\",\n  \"name\":\"Autopista Pedro Eugenio Aramburu\",\n  \"address\":{\n    \"road\":\"Autopista Pedro Eugenio Aramburu\",\n    \"village\":\"El Tri\u00e1ngulo\",\n    \"state_district\":\"Partido de Malvinas Argentinas\",\n    \"state\":\"Buenos Aires\",\n    \"postcode\":\"1.619\",\n    \"country\":\"Argentina\",\n    \"country_code\":\"ar\"\n  },\n  \"boundingbox\":[\"-34.44159\",\"-34.4370994\",\"-58.7086067\",\"-58.7044712\"]\n}\n```\n\n### 4. GeoJSON shapes\nLuckily, the European Commission has an excellent <a href='https://ec.europa.eu/eurostat/web/gisco/geodata'>website</a> that may help us with this. In its <a href='https://ec.europa.eu/eurostat/web/gisco/geodata/reference-data/administrative-units-statistical-units/urban-audit#ua11-14'>Urban Audit</a> section, we can find `.shp` boundary files for each city that falls under the EC's watchful eye. I'll use <a href='https://medium.com/dataexplorations/generating-geojson-file-for-toronto-fsas-9b478a059f04'>this article</a> to convert the `.shp` files into GeoJSON files, as I did for Part 3 of the Week 3 assignment, using the open-source <a href='https://qgis.org/en/site/'>QGIS</a> software.", 
            "cell_type": "markdown", 
            "metadata": {}
        }
    ], 
    "metadata": {
        "kernelspec": {
            "display_name": "Python 3.5", 
            "name": "python3", 
            "language": "python"
        }, 
        "language_info": {
            "mimetype": "text/x-python", 
            "nbconvert_exporter": "python", 
            "version": "3.5.5", 
            "name": "python", 
            "pygments_lexer": "ipython3", 
            "file_extension": ".py", 
            "codemirror_mode": {
                "version": 3, 
                "name": "ipython"
            }
        }
    }, 
    "nbformat": 4
}